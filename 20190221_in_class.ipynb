{
 "cells": [
  {
   "cell_type": "code",
   "execution_count": 4,
   "metadata": {},
   "outputs": [
    {
     "name": "stdout",
     "output_type": "stream",
     "text": [
      "1.6666666666666667\n"
     ]
    }
   ],
   "source": [
    "print(5/3)"
   ]
  },
  {
   "cell_type": "code",
   "execution_count": 2,
   "metadata": {
    "scrolled": true
   },
   "outputs": [
    {
     "name": "stdout",
     "output_type": "stream",
     "text": [
      "Hello Kitty!\n"
     ]
    }
   ],
   "source": [
    "print(\"Hello Kitty!\")"
   ]
  },
  {
   "cell_type": "code",
   "execution_count": 3,
   "metadata": {
    "scrolled": true
   },
   "outputs": [
    {
     "name": "stdout",
     "output_type": "stream",
     "text": [
      "1.592356687898089\n"
     ]
    }
   ],
   "source": [
    "x=5/3.14\n",
    "print(x)"
   ]
  },
  {
   "cell_type": "code",
   "execution_count": 2,
   "metadata": {},
   "outputs": [
    {
     "ename": "SyntaxError",
     "evalue": "invalid syntax (<ipython-input-2-d389ac7fb9a6>, line 19)",
     "output_type": "error",
     "traceback": [
      "\u001b[1;36m  File \u001b[1;32m\"<ipython-input-2-d389ac7fb9a6>\"\u001b[1;36m, line \u001b[1;32m19\u001b[0m\n\u001b[1;33m    plt.plot(v, B, \"g--\")        #plot the matrix v-B\u001b[0m\n\u001b[1;37m      ^\u001b[0m\n\u001b[1;31mSyntaxError\u001b[0m\u001b[1;31m:\u001b[0m invalid syntax\n"
     ]
    }
   ],
   "source": [
    "import numpy as np\n",
    "import matplotlib.pyplot as plt\n",
    "import math\n",
    "\n",
    "#SI unit\n",
    "h = 6.63*10**-34      #Plank constant\n",
    "c = 3*10**8           #speed of light\n",
    "k = 1.38*10**-23      #Boltzmann Constant JK^-1\n",
    "\n",
    "\n",
    "T = float(input(\"Input temperature:\"))\n",
    "v = np.linspace(10**0, 10**15.5, 100, endpoint=True)      #100 points between 10^0~10^15.5\n",
    "B = 2*h*v**3/c**2/(math.e**(h*v/k/float(T)-1)                #formula for black body radiation\n",
    "\n",
    "#plt.errorbar(v, B, yerr=0.5*B, xerr=0.5*v, ecolor=\"green\")\n",
    "\n",
    "#plt.xlim(10**15, 10**14)\n",
    "#plt.ylim(10**-9, 10**-8)\n",
    "plt.plot(v, B, \"g--\")        #plot the matrix v-B\n",
    "plt.xlabel(\"Frequency (Hz)\")\n",
    "plt.ylabel(\"Intensity (Watt/Hz/m^2)\")\n"
   ]
  },
  {
   "cell_type": "code",
   "execution_count": null,
   "metadata": {},
   "outputs": [],
   "source": []
  }
 ],
 "metadata": {
  "kernelspec": {
   "display_name": "Python 3",
   "language": "python",
   "name": "python3"
  },
  "language_info": {
   "codemirror_mode": {
    "name": "ipython",
    "version": 3
   },
   "file_extension": ".py",
   "mimetype": "text/x-python",
   "name": "python",
   "nbconvert_exporter": "python",
   "pygments_lexer": "ipython3",
   "version": "3.7.1"
  }
 },
 "nbformat": 4,
 "nbformat_minor": 2
}
