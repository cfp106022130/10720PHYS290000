{
 "cells": [
  {
   "cell_type": "code",
   "execution_count": 77,
   "metadata": {
    "scrolled": false
   },
   "outputs": [
    {
     "data": {
      "text/plain": [
       "Text(0, 0.5, 'height (m)')"
      ]
     },
     "execution_count": 77,
     "metadata": {},
     "output_type": "execute_result"
    },
    {
     "data": {
      "image/png": "[encoded data removed]",
      "text/plain": [
       "<Figure size 432x288 with 1 Axes>"
      ]
     },
     "metadata": {
      "needs_background": "light"
     },
     "output_type": "display_data"
    }
   ],
   "source": [
    "import numpy as np\n",
    "import math\n",
    "import matplotlib.pyplot as plt\n",
    "\n",
    "p = np.random.random(2)\n",
    "a = p[0]*100\n",
    "b = p[1]*50\n",
    "\n",
    "plt.xlim(0, 100)\n",
    "plt.ylim(0, 50)\n",
    "\n",
    "\n",
    "plt.plot(a,b,'ro')\n",
    "plt.xlabel(\"distance (m)\")\n",
    "plt.ylabel(\"height (m)\")\n"
   ]
  },
  {
   "cell_type": "code",
   "execution_count": 108,
   "metadata": {
    "scrolled": true
   },
   "outputs": [
    {
     "name": "stdout",
     "output_type": "stream",
     "text": [
      "enter the initial velocity:30\n",
      "enter the initial angle:44\n"
     ]
    },
    {
     "data": {
      "text/plain": [
       "Text(0, 0.5, 'height (m)')"
      ]
     },
     "execution_count": 108,
     "metadata": {},
     "output_type": "execute_result"
    },
    {
     "data": {
      "image/png": "[encoded data removed]",
      "text/plain": [
       "<Figure size 432x288 with 1 Axes>"
      ]
     },
     "metadata": {
      "needs_background": "light"
     },
     "output_type": "display_data"
    }
   ],
   "source": [
    "v = float(input(\"enter the initial velocity:\"))\n",
    "theta = math.radians(float(input(\"enter the initial angle:\")))\n",
    "\n",
    "t = np.linspace(0,20,100)\n",
    "x = v * math.cos(theta) * t\n",
    "y = v * math.sin(theta) * t - 0.5 * 9.8 * t**2\n",
    "\n",
    "plt.plot(a,b,'ro')\n",
    "plt.plot(x,y)\n",
    "\n",
    "plt.xlim(0, 100)\n",
    "plt.ylim(0, 50)\n",
    "plt.xlabel(\"distance (m)\")\n",
    "plt.ylabel(\"height (m)\")"
   ]
  },
  {
   "cell_type": "code",
   "execution_count": 110,
   "metadata": {
    "scrolled": false
   },
   "outputs": [
    {
     "name": "stdout",
     "output_type": "stream",
     "text": [
      "You got it!!\n"
     ]
    }
   ],
   "source": [
    "d = ((x-a)**2 + (y-b)**2) ** 0.5\n",
    "\n",
    "if min(d) <= 1:\n",
    "    print(\"You got it!!\")\n",
    "else:\n",
    "    print(\"Oh No~~~\")"
   ]
  },
  {
   "cell_type": "code",
   "execution_count": 112,
   "metadata": {},
   "outputs": [
    {
     "name": "stdout",
     "output_type": "stream",
     "text": [
      "<class 'numpy.float64'>\n"
     ]
    }
   ],
   "source": [
    "\n",
    "\n"
   ]
  },
  {
   "cell_type": "code",
   "execution_count": null,
   "metadata": {},
   "outputs": [],
   "source": []
  }
 ],
 "metadata": {
  "kernelspec": {
   "display_name": "Python 3",
   "language": "python",
   "name": "python3"
  },
  "language_info": {
   "codemirror_mode": {
    "name": "ipython",
    "version": 3
   },
   "file_extension": ".py",
   "mimetype": "text/x-python",
   "name": "python",
   "nbconvert_exporter": "python",
   "pygments_lexer": "ipython3",
   "version": "3.7.1"
  }
 },
 "nbformat": 4,
 "nbformat_minor": 2
}
