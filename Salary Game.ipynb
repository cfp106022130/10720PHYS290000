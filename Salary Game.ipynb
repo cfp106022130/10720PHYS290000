{
 "cells": [
  {
   "cell_type": "code",
   "execution_count": 10,
   "metadata": {},
   "outputs": [
    {
     "data": {
      "image/png": "[encoded data removed]",
      "text/plain": [
       "<Figure size 432x288 with 1 Axes>"
      ]
     },
     "metadata": {
      "needs_background": "light"
     },
     "output_type": "display_data"
    }
   ],
   "source": [
    "import numpy as np\n",
    "import matplotlib.pyplot as plt\n",
    "\n",
    "n = 200\n",
    "m = 40\n",
    "dm = 10\n",
    "k = 30\n",
    "\n",
    "money = np.linspace(m,m,n)\n",
    "\n",
    "for i in range(k):\n",
    "    a = b = 0\n",
    "    while (a == b or money[a]==0 or money[b]==0):\n",
    "        a = np.random.randint(0,n)\n",
    "        b = np.random.randint(0,n)\n",
    "    \n",
    "    awin = np.random.randint(0,1)\n",
    "    \n",
    "    if awin == 0:\n",
    "        money[a] -= dm\n",
    "        money[b] += dm\n",
    "    else:\n",
    "        money[a] += dm\n",
    "        money[b] -= dm\n",
    "\n",
    "plt.hist(money, 10)\n",
    "plt.xlabel(\"Money\")\n",
    "plt.ylabel(\"Number of Student\")\n",
    "plt.ylim(0,n)\n",
    "plt.show()"
   ]
  },
  {
   "cell_type": "code",
   "execution_count": null,
   "metadata": {},
   "outputs": [],
   "source": []
  },
  {
   "cell_type": "code",
   "execution_count": null,
   "metadata": {},
   "outputs": [],
   "source": []
  }
 ],
 "metadata": {
  "kernelspec": {
   "display_name": "Python 3",
   "language": "python",
   "name": "python3"
  },
  "language_info": {
   "codemirror_mode": {
    "name": "ipython",
    "version": 3
   },
   "file_extension": ".py",
   "mimetype": "text/x-python",
   "name": "python",
   "nbconvert_exporter": "python",
   "pygments_lexer": "ipython3",
   "version": "3.7.1"
  }
 },
 "nbformat": 4,
 "nbformat_minor": 2
}
