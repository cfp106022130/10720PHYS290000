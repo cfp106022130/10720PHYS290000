{
 "cells": [
  {
   "cell_type": "code",
   "execution_count": 9,
   "metadata": {},
   "outputs": [
    {
     "name": "stdout",
     "output_type": "stream",
     "text": [
      "[ 30.  20.  10.   0.   0.  20.  10.   0.  20.   0.  30.  40. 110.  40.\n",
      " 100.  70.  10. 120.   0.   0.  10.  20.  30.  30.  30. 120.   0.  60.\n",
      "   0.  50.  60.  70.  10.  40.  50.  30. 130.  80.   0.  30.  50. 100.\n",
      "  80.   0.   0.   0.  20. 120.   0.  20.  10.  20.  10.  40.  10.  70.\n",
      "  40.  10.   0.  20.  10.  60. 120.  30.  50.  80.  90.  20.  20.  40.\n",
      "   0.  60.  20.  70.   0.  10.  60. 120.  10.  10.  20.  60.  50.  10.\n",
      " 120.  50.  20.  20.  20.  10. 100.   0.  10. 160.   0.  10.  40.  40.\n",
      "  70.  30.  60.   0.  20.  20.   0.  20.  20.  40.  50.   0.  40.  10.\n",
      "   0.  50.  40.  20.  40.  70.  40.  30.  30.   0.  50.  80.   0.  10.\n",
      "  60.  10.  10.  10.   0.  70. 170.  80. 170.  30.   0.  30.  60.   0.\n",
      " 130.   0.  20.  20.  30.  80.  50.  10.  40.  20.  40.   0. 150.  40.\n",
      "   0.  20.   0.  50. 200. 180.  20.  50.   0.   0.  30.  20.   0. 120.\n",
      "  20.  20.  50. 110.   0.  30.  40.  10.  20.   0.  10.  80.  80. 130.\n",
      "  80.  10. 120.  10.  40.   0.   0.  10.  70.  50.   0.  10. 100.  90.\n",
      "  50.  90.  90.   0.]\n"
     ]
    },
    {
     "data": {
      "image/png": "[encoded data removed]",
      "text/plain": [
       "<Figure size 432x288 with 1 Axes>"
      ]
     },
     "metadata": {
      "needs_background": "light"
     },
     "output_type": "display_data"
    },
    {
     "name": "stdout",
     "output_type": "stream",
     "text": [
      "(array([69., 45., 33., 17., 13.,  6., 11.,  1.,  3.,  2.]), array([  0.,  20.,  40.,  60.,  80., 100., 120., 140., 160., 180., 200.]), <a list of 10 Patch objects>)\n",
      "[ 10.  30.  50.  70.  90. 110. 130. 150. 170. 190.]\n",
      "[93.45377661] [[14.39810896]]\n"
     ]
    },
    {
     "data": {
      "text/plain": [
       "[<matplotlib.lines.Line2D at 0x14d49424438>]"
      ]
     },
     "execution_count": 9,
     "metadata": {},
     "output_type": "execute_result"
    },
    {
     "data": {
      "image/png": "[encoded data removed]",
      "text/plain": [
       "<Figure size 432x288 with 1 Axes>"
      ]
     },
     "metadata": {
      "needs_background": "light"
     },
     "output_type": "display_data"
    }
   ],
   "source": [
    "import numpy as np\n",
    "import matplotlib.pyplot as plt\n",
    "\n",
    "n = 200\n",
    "m = 40\n",
    "dm = 10\n",
    "k = 100000\n",
    "\n",
    "money = np.linspace(m,m,n)\n",
    "\n",
    "for i in range(k):\n",
    "    a = b = 0\n",
    "    while (a == b):\n",
    "        a = np.random.randint(0,n)\n",
    "        b = np.random.randint(0,n)\n",
    "    \n",
    "    awin = np.random.randint(0,2)\n",
    "    \n",
    "    if awin == 0 and money[a]!=0: \n",
    "        money[a] -= dm\n",
    "        money[b] += dm\n",
    "    elif awin == 1 and money[b]!=0:\n",
    "        money[a] += dm\n",
    "        money[b] -= dm\n",
    "\n",
    "print(money)\n",
    "plt.hist(money, 10)\n",
    "plt.xlabel(\"Money\")\n",
    "plt.ylabel(\"Number of Student\")\n",
    "plt.show()\n",
    "\n",
    "a = plt.hist(money, 10)\n",
    "print(a)\n",
    "dx = (a[1][1]-a[1][0])\n",
    "bin_center = np.array(a[1][0:-1]) + dx/2\n",
    "print(bin_center)\n",
    "\n",
    "from scipy import optimize\n",
    "\n",
    "def test_func(x, amp):\n",
    "    return amp * np.exp(-x/m)\n",
    "\n",
    "params, params_covariance = optimize.curve_fit(test_func, bin_center, a[0])\n",
    "print(params, params_covariance)\n",
    "plt.plot(bin_center, test_func(bin_center, params[0]), \"r*\", label = 'Fitted function')"
   ]
  },
  {
   "cell_type": "code",
   "execution_count": null,
   "metadata": {},
   "outputs": [],
   "source": [
    "import numpy as np\n",
    "import matplotlib.pyplot as plt\n",
    "\n",
    "n = 200\n",
    "m = 40\n",
    "dm = 10\n",
    "k = 100000\n",
    "\n",
    "money = np.linspace(m,m,n)\n",
    "\n",
    "for i in range(k):\n",
    "    a = b = 0\n",
    "    while (a == b or money[a]==0 or money[b]==0 ):\n",
    "        a = np.random.randint(0,n)\n",
    "        b = np.random.randint(0,n)\n",
    "    \n",
    "    awin = np.random.randint(0,2)\n",
    "    \n",
    "    if awin == 0: \n",
    "        money[a] -= dm\n",
    "        money[b] += dm\n",
    "    elif awin == 1:\n",
    "        money[a] += dm\n",
    "        money[b] -= dm\n",
    "\n",
    "print(money)\n",
    "plt.hist(money, 10)\n",
    "plt.xlabel(\"Money\")\n",
    "plt.ylabel(\"Number of Student\")\n",
    "plt.ylim(0,n)\n",
    "plt.show()\n",
    "\n"
   ]
  },
  {
   "cell_type": "code",
   "execution_count": 5,
   "metadata": {
    "scrolled": true
   },
   "outputs": [
    {
     "name": "stdout",
     "output_type": "stream",
     "text": [
      "[ 270.  310. -350. -230.  540.  240.  180.   30. -180. -230.  140.   60.\n",
      "  400.   70. -230.  180.  170. -170.   20.   80.   70.  280. -130. -370.\n",
      "   10. -120.  110.  130.  -10.   80.  460. -140. -220.   40.  180.  130.\n",
      "  160.    0.   10.  -10.   20. -130.  340.  240.  160.  -10. -420.  100.\n",
      "  120.  180.  -80.  180. -250.  500. -350.    0. -260. -190.  -80.  100.\n",
      "  230.  200.  530.  240. -110.   70.  300.  -50.   80.  440.  290.  240.\n",
      "   90. -140.  200.   40.   70.  270.  150. -250.  240.  -80.  -30.  300.\n",
      " -380.  280.   50.  -30. -140.  -90.   40.  290.  280.  130.   80.  170.\n",
      "   20.  -80.  160.  -70.  160.  -60.   60.  -30.  470.   40. -140.  110.\n",
      "   60.  220.  340.  120.   70.  -60.  470. -420.  -70.  150. -220.  -30.\n",
      " -250.   50.  240. -150. -360.  160. -130.   90.  120.  -80.   80. -100.\n",
      "   30.  110.  320.   30. -180.  130.  130. -140.  -20.  -50.  120.  380.\n",
      " -100.  200. -120.    0. -420.  -20.  260.   50.   10.  100. -370.  270.\n",
      " -170.  380. -240.   70.   80.   30.   50.   70. -150.  520. -230.  180.\n",
      "  500. -190.  150.  530. -250. -210.  150.  400. -410.   70.  -30.  200.\n",
      "  190. -100.  190.  -80.   30. -220.  340.  240.  -90.  100.  260.   70.\n",
      "   40. -190.  -30.   60. -440. -250.   20.   20.  180.   70.  -90. -270.\n",
      "  220.   40.  360.    0.  160. -150.  -40.  470.  290.  210.   20. -260.\n",
      "  -20.  140.  -10. -130.   30. -260. -260.  260.   40.  180.  -80. -210.\n",
      "  220. -220.  100.  340.  370. -180.   80.   80.   30.   20.  280.   70.\n",
      " -160.  160.  100.   20.  340. -280. -220.  150. -160.  -80. -200.  -70.\n",
      "  190.  250.  460.  120.  150.   70. -490.  110. -360.  120.  -90.  190.\n",
      "  210.   10.   60.  130.  -60.   40.   10.  240. -300.  -50.  210.   40.\n",
      "  230. -100.  -90.  210.  -50. -110.  -70.   90.  120.  300.  210.   80.\n",
      "   40. -100.  -90. -150.   70.  -30. -180.  360.  400. -340.  250. -150.\n",
      "  110.  270. -200.   60. -270. -240.  -90. -450.   40.   40.  310.   50.\n",
      " -240. -240. -110.  520.  110.   20.  -10.   10.   20.   70.  490.  260.\n",
      "  120.  -80. -170.  130.    0.  230.   20. -210.  220.  110.   50.  150.\n",
      "  280.  350. -540.   80.   20.  380.   40.  300.   60.   20. -240.   80.\n",
      "  -20.  110.  370.  330.  270. -260.   20.  -40.  310.  -30.  180. -340.\n",
      "   60.  -90.   70. -200. -190.  -90.  -10.  150.   50.  270.  -30. -440.\n",
      " -260.  -80. -130.  240.  250. -340.  -90. -310.  -10. -200.  280. -220.\n",
      "   40.  120.  150.  -90.  330.  120.  150.  -10.  320.   20.   30. -160.\n",
      " -170.  160.  -10.   80. -250.  150.  390.  210.  160. -150.  160.  210.\n",
      "  200.  -60. -190.   80.  290.   10.  -90. -200.  130.   70.  120.  430.\n",
      "   10.  400.  -10. -370.   80.  120.  -60.  220.  -70.  190.  200. -100.\n",
      " -260.  -80.  150.  100.   50.   10.   40.   70.  170.   10. -170. -160.\n",
      "  -40.   70.   40.   70.  260.  240. -300.   20.  220.   90.    0. -110.\n",
      "   50.  190.  -90. -180.  180.  100.  -20.   30.  -60.  210. -300.   90.\n",
      "   70.  260.   90. -310. -170.  -70.  280. -450.  130.  210.  230.  250.\n",
      " -390.  210.  120.   70.  260. -190. -230.  -60.  260.  120. -120.   10.\n",
      "  230.  100.  420.  -40. -200.  -40.  150.  -50.]\n"
     ]
    },
    {
     "data": {
      "image/png": "[encoded data removed]",
      "text/plain": [
       "<Figure size 432x288 with 1 Axes>"
      ]
     },
     "metadata": {
      "needs_background": "light"
     },
     "output_type": "display_data"
    },
    {
     "name": "stdout",
     "output_type": "stream",
     "text": [
      "(array([ 1.,  0.,  0.,  0.,  1.,  0.,  0.,  0.,  2.,  2.,  0.,  3.,  1.,\n",
      "        1.,  1.,  3.,  2.,  2.,  3.,  0.,  0.,  2.,  3.,  0.,  1.,  9.,\n",
      "        6.,  5.,  5.,  6.,  3.,  6.,  6.,  5.,  6.,  4.,  6., 10.,  3.,\n",
      "        4.,  6., 13., 11.,  6.,  7.,  5.,  5.,  9.,  5., 10., 17., 16.,\n",
      "        9., 16.,  9.,  8., 21., 14.,  6.,  9.,  8., 14., 11., 13., 10.,\n",
      "        3., 10.,  6.,  6., 10.,  6.,  5., 10.,  4.,  8., 13.,  4.,  4.,\n",
      "        3.,  2.,  2.,  5.,  1.,  2.,  2.,  3.,  1.,  4.,  1.,  1.,  1.,\n",
      "        0.,  2.,  3.,  0.,  1.,  2.,  0.,  2.,  3.]), array([-540. , -529.2, -518.4, -507.6, -496.8, -486. , -475.2, -464.4,\n",
      "       -453.6, -442.8, -432. , -421.2, -410.4, -399.6, -388.8, -378. ,\n",
      "       -367.2, -356.4, -345.6, -334.8, -324. , -313.2, -302.4, -291.6,\n",
      "       -280.8, -270. , -259.2, -248.4, -237.6, -226.8, -216. , -205.2,\n",
      "       -194.4, -183.6, -172.8, -162. , -151.2, -140.4, -129.6, -118.8,\n",
      "       -108. ,  -97.2,  -86.4,  -75.6,  -64.8,  -54. ,  -43.2,  -32.4,\n",
      "        -21.6,  -10.8,    0. ,   10.8,   21.6,   32.4,   43.2,   54. ,\n",
      "         64.8,   75.6,   86.4,   97.2,  108. ,  118.8,  129.6,  140.4,\n",
      "        151.2,  162. ,  172.8,  183.6,  194.4,  205.2,  216. ,  226.8,\n",
      "        237.6,  248.4,  259.2,  270. ,  280.8,  291.6,  302.4,  313.2,\n",
      "        324. ,  334.8,  345.6,  356.4,  367.2,  378. ,  388.8,  399.6,\n",
      "        410.4,  421.2,  432. ,  442.8,  453.6,  464.4,  475.2,  486. ,\n",
      "        496.8,  507.6,  518.4,  529.2,  540. ]), <a list of 100 Patch objects>)\n",
      "[-534.6 -523.8 -513.  -502.2 -491.4 -480.6 -469.8 -459.  -448.2 -437.4\n",
      " -426.6 -415.8 -405.  -394.2 -383.4 -372.6 -361.8 -351.  -340.2 -329.4\n",
      " -318.6 -307.8 -297.  -286.2 -275.4 -264.6 -253.8 -243.  -232.2 -221.4\n",
      " -210.6 -199.8 -189.  -178.2 -167.4 -156.6 -145.8 -135.  -124.2 -113.4\n",
      " -102.6  -91.8  -81.   -70.2  -59.4  -48.6  -37.8  -27.   -16.2   -5.4\n",
      "    5.4   16.2   27.    37.8   48.6   59.4   70.2   81.    91.8  102.6\n",
      "  113.4  124.2  135.   145.8  156.6  167.4  178.2  189.   199.8  210.6\n",
      "  221.4  232.2  243.   253.8  264.6  275.4  286.2  297.   307.8  318.6\n",
      "  329.4  340.2  351.   361.8  372.6  383.4  394.2  405.   415.8  426.6\n",
      "  437.4  448.2  459.   469.8  480.6  491.4  502.2  513.   523.8  534.6]\n",
      "[ 10.81378999 279.33329858] [[  0.34449191  -6.00290665]\n",
      " [ -6.00290665 310.93465676]]\n"
     ]
    },
    {
     "data": {
      "text/plain": [
       "[<matplotlib.lines.Line2D at 0x1ff9ed694a8>]"
      ]
     },
     "execution_count": 5,
     "metadata": {},
     "output_type": "execute_result"
    },
    {
     "data": {
      "image/png": "[encoded data removed]",
      "text/plain": [
       "<Figure size 432x288 with 1 Axes>"
      ]
     },
     "metadata": {
      "needs_background": "light"
     },
     "output_type": "display_data"
    }
   ],
   "source": [
    "import numpy as np\n",
    "import matplotlib.pyplot as plt\n",
    "\n",
    "n = 500\n",
    "m = 40\n",
    "dm = 10\n",
    "k = 100000\n",
    "\n",
    "money = np.linspace(m,m,n)\n",
    "\n",
    "for i in range(k):\n",
    "    a = b = 0\n",
    "    while (a == b):\n",
    "        a = np.random.randint(0,n)\n",
    "        b = np.random.randint(0,n)\n",
    "    \n",
    "    awin = np.random.randint(0,2)\n",
    "    \n",
    "    if awin == 0: \n",
    "        money[a] -= dm\n",
    "        money[b] += dm\n",
    "    elif awin == 1:\n",
    "        money[a] += dm\n",
    "        money[b] -= dm\n",
    "\n",
    "print(money)\n",
    "plt.hist(money, 10)\n",
    "plt.xlabel(\"Money\")\n",
    "plt.ylabel(\"Number of Student\")\n",
    "plt.show()\n",
    "\n",
    "a = plt.hist(money, 100)\n",
    "print(a)\n",
    "dx = (a[1][1]-a[1][0])\n",
    "bin_center = np.array(a[1][0:-1]) + dx/2\n",
    "print(bin_center)\n",
    "\n",
    "from scipy import optimize\n",
    "\n",
    "def test_func(x, amp, sigma):\n",
    "    return amp * np.exp(-(x-m)**2/sigma**2)\n",
    "\n",
    "params, params_covariance = optimize.curve_fit(test_func, bin_center, a[0])\n",
    "print(params, params_covariance)\n",
    "plt.plot(bin_center, test_func(bin_center, params[0], params[1]), \"r*\", label = 'Fitted function')"
   ]
  },
  {
   "cell_type": "code",
   "execution_count": null,
   "metadata": {},
   "outputs": [],
   "source": []
  },
  {
   "cell_type": "code",
   "execution_count": null,
   "metadata": {},
   "outputs": [],
   "source": []
  },
  {
   "cell_type": "code",
   "execution_count": null,
   "metadata": {},
   "outputs": [],
   "source": []
  }
 ],
 "metadata": {
  "kernelspec": {
   "display_name": "Python 3",
   "language": "python",
   "name": "python3"
  },
  "language_info": {
   "codemirror_mode": {
    "name": "ipython",
    "version": 3
   },
   "file_extension": ".py",
   "mimetype": "text/x-python",
   "name": "python",
   "nbconvert_exporter": "python",
   "pygments_lexer": "ipython3",
   "version": "3.7.1"
  }
 },
 "nbformat": 4,
 "nbformat_minor": 2
}
